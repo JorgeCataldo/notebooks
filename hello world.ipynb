{
 "cells": [
  {
   "cell_type": "markdown",
   "metadata": {},
   "source": [
    "# Teste de título\n",
    "\n",
    "Teste de título para teste de título \n",
    "\n",
    "\n"
   ]
  },
  {
   "cell_type": "code",
   "execution_count": 1,
   "metadata": {
    "collapsed": false
   },
   "outputs": [
    {
     "name": "stdout",
     "output_type": "stream",
     "text": [
      "Atacante\n",
      "Real Madrid\n",
      "<__main__.Player object at 0x0000015C581D94E0>\n",
      "My position is Atacante\n"
     ]
    }
   ],
   "source": [
    "class Player:\n",
    "    def __init__(self, position, team):\n",
    "        self.position = position\n",
    "        self.team = team\n",
    "    \n",
    "    def sayName(self):\n",
    "        print((\"My position is {0}\").format(self.position))\n",
    "        \n",
    "Ozil=Player(\"Atacante\", \"Real Madrid\")\n",
    "print(Ozil.position)\n",
    "print(Ozil.team)\n",
    "print(Ozil)                 #não é uma variável?!\n",
    "\n",
    "Ozil.sayName()"
   ]
  },
  {
   "cell_type": "markdown",
   "metadata": {},
   "source": [
    "\n",
    "\n",
    "### Teste do segundo setor da página\n",
    "\n",
    "teste"
   ]
  }
 ],
 "metadata": {
  "celltoolbar": "Slideshow",
  "kernelspec": {
   "display_name": "Python 3",
   "language": "python",
   "name": "python3"
  },
  "language_info": {
   "codemirror_mode": {
    "name": "ipython",
    "version": 3
   },
   "file_extension": ".py",
   "mimetype": "text/x-python",
   "name": "python",
   "nbconvert_exporter": "python",
   "pygments_lexer": "ipython3",
   "version": "3.5.1"
  }
 },
 "nbformat": 4,
 "nbformat_minor": 0
}
